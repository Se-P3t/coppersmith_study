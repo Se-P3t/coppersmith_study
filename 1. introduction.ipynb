{
 "cells": [
  {
   "cell_type": "markdown",
   "metadata": {},
   "source": [
    "## Introduction\n",
    "\n",
    "An important application of lattice basis reduction is finding small solutions to polynomial equations $f(x) \\equiv 0 \\pmod N$ of degree $d > 1$.\n",
    "\n",
    "In general, finding solutions to modular equations is easy if we know the factorisation of the modulus. However, if the factorisation of the modulus $N$ is not known then finding solutions can be hard. Indeed, notice that for some polynomials, it is equivalent to the knowledge of the factorization of $N$. Hence, we do not expect efficient algorithms for finding all solutions to modular equations in general.\n",
    "\n",
    "Suppose then that the polynomial equation has a \"small\" solution. It is not so clear that finding the roots is necessarily a hard problem. As we will explain later, if $f(x) \\equiv 0 \\pmod N$ of degree $d$ has a solution $x^{(0)}$ such that $|x^{(0)}| < N^{1/d−\\epsilon}$ for small $\\epsilon > 0$ then it can be found in polynomial-time. This result has a number of important consequences.\n",
    "\n",
    "\n",
    "\n"
   ]
  },
  {
   "cell_type": "markdown",
   "metadata": {},
   "source": [
    "### Notation\n",
    "\n",
    "The following notation and conventions are used throughout this text:\n",
    "\n",
    "- We start counting at zero by default (to avoid confusion with source code).\n",
    "\n",
    "- $\\mathbb{F}$ is a field, not necessary algebracally closed.\n",
    "\n",
    "- $\\mathbb{Z}$ is the ring of integers; $\\mathbb{Z}_{\\geq 0}$ are the integers $\\geq 0$.\n",
    "\n",
    "- $P$ is a polynomial ring $\\mathbb{F}[x_0, \\ldots, x_{n-1}]$ in the variables $x_0, \\ldots, x_{n-1}$.\n",
    "\n",
    "- $F = (f_0, \\ldots, f_{m-1})$ is an ordered list of polynomials in $P$; we denote by $\\{f_0, \\ldots, f_{m-1}\\}$ a set of unordered polynomials $f_0, \\ldots, f_{m-1}$.\n",
    "\n",
    "- We call $m = x_0^{\\alpha_0} x_1^{\\alpha_1} \\cdots x_{n-1}^{\\alpha_{n-1}}$ with $\\alpha_i \\in \\mathbb{Z}_{\\geq 0}$ a monomial and $t = c \\cdot m$ with $c \\in \\mathbb{F}$ a term.\n",
    "\n",
    "- if $m = x_0^{\\alpha_0} x_1^{\\alpha_1} \\cdots x_{n-1}^{\\alpha_{n-1}}$ is a monomial, we call $(\\alpha_0, \\alpha_1, \\ldots, \\alpha_{n-1})$ its *exponent vector*: $\\operatorname{expvec}(m) = (\\alpha_0, \\alpha_1, \\ldots, \\alpha_{n-1})$.\n",
    "\n",
    "- $M(f)$ is the set of the monomials that appear in the polynomial $f$ and $T(f)$ is the set of terms that appear in the same polynomial $f$. We extend this difinition to sets of polynomials $F = (f_0, \\ldots, f_{m-1})$: $M(F) = \\bigcup_{i=0}^{m-1} M(f_i)$ and $T(F) = \\bigcup_{i=0}^{m-1} T(f_i)$.\n",
    "\n",
    "- $deg(f)$ is the degree of the monomial $m = x_0^{\\alpha_0} x_1^{\\alpha_1} \\cdots x_{n-1}^{\\alpha_{n-1}}$ defined as $\\sum_{i=0}^{n-1} \\alpha_i$. We extend this definition to polynomials such that $deg(f)$ for $f = \\sum c_im_i$ is defined as $max\\{deg(m_i)\\}$. We define $deg(\\alpha)$ as $deg(m)$ for $\\alpha = \\operatorname{expvec}(m)$.\n",
    "\n",
    "- The *coefficient vector* of $f = \\sum c_im_i$ for an ordered monomials $S = M(f) = (m_0, m_1, \\ldots, m_{\\omega-1})$ is defined by the vector of the coefficients $\\operatorname{coeffvec}_S(f) = (c_0, c_1, \\ldots, c_{\\omega-1})$.\n",
    "\n",
    "- We define the norm of $f$ as the Euclidean norm of the coefficient vector: $\\lVert f \\rVert^2 = \\sum_{i=0}^{\\omega-1} c_i^2$.\n",
    "\n",
    "- $A[i, j]$ represents the element in row $i$ and column $j$ in the matrix $A$."
   ]
  },
  {
   "cell_type": "markdown",
   "metadata": {},
   "source": [
    "### Preliminaries\n",
    "\n",
    "The basic idea of Coppersmith's method [[3]](#ref3), which goes back to Hastad [[2]](#ref2), is to find a polynomial $h(x)$ over integers having same small solutions with the original modular polynomial $f(x)$.\n",
    "\n",
    "\n",
    "**Lemma 1.1.** (Howgrave-Graham [[4]](#ref4)) Let $h(x) = \\sum_{i=0}^{d} c_i x^i \\in \\mathbb{Z}[x]$. Suppose that $h(x^{(0)}) \\equiv 0 \\pmod N$ and $\\lVert h(xX) \\rVert < N/\\sqrt{d}$, where $|x^{(0)}| < X$. Then $h(x^{(0)}) = 0$ holds over the integers.\n",
    "\n",
    "**Proof:** (Refer to Theorem 19.1.2. of Galbraith [[1]](#ref1) for the details.)\n",
    "$$\n",
    "|h(x^{(0)})| < \\sum_i c_i (x^{(0)})^i \\leq \\sum_i |c_i| X^i \\leq \\sqrt{d} \\sqrt{\\sum_i (|c_i| X^i)^2} = \\sqrt{d} \\lVert h(xX) \\rVert < N,\n",
    "$$\n",
    "since $h(x^{(0)})$ is a multiple of $N$, it must be zero.\n",
    "\n",
    "**Corollary 1.2.** (Howgrave-Graham (multivariate)) Let $h(x_0,\\ldots,x_{n-1}) \\in \\mathbb{Z}[x_0,\\ldots,x_{n-1}]$ be a polynomial in $n$ variables with $\\omega$ monomials. Suppose that $h(x_0^{(0)},\\ldots,x_{n-1}^{(0)}) \\equiv 0 \\pmod N$ and $\\lVert h(x_0X_0,\\ldots,x_{n-1}X_{n-1}) \\rVert < N/\\sqrt{\\omega}$, where $|x_i^{(0)}| < X_i$ for $i = 0,\\ldots,n-1$. Then $h(x_0^{(0)},\\ldots,x_{n-1}^{(0)}) = 0$ holds over the integers.\n",
    "\n",
    "Then it remains to find $h(x)$."
   ]
  },
  {
   "cell_type": "markdown",
   "metadata": {},
   "source": [
    "### Reference\n",
    "\n",
    "<a id=\"ref1\" herf=\"https://www.math.auckland.ac.nz/~sgal018/crypto-book/crypto-book.html\">[1] Steven D. Galbraith. 2012. Mathematics of Public Key Cryptography (1st. ed.). Cambridge University Press, USA.</a>\n",
    "\n",
    "<a id=\"ref2\" herf=\"https://doi.org/10.1137/0217019\">[2] Johan Hastad. 1988. Solving simultaneous modular equations of low degree. SIAM J. Comput. 17, 2 (April 1988), 336–341.</a>\n",
    "\n",
    "<a id=\"ref3\" herf=\"https://doi.org/10.1007/3-540-68339-9_14\"> [3] Coppersmith D. (1996) Finding a Small Root of a Univariate Modular Equation. In: Maurer U. (eds) Advances in Cryptology — EUROCRYPT ’96. EUROCRYPT 1996. Lecture Notes in Computer Science, vol 1070. Springer, Berlin, Heidelberg.</a>\n",
    "\n",
    "<a id=\"ref4\" herf=\"https://doi.org/10.1007/BFb0024458\">[4] Howgrave-Graham N. (1997) Finding small roots of univariate modular equations revisited. In: Darnell M. (eds) Crytography and Coding. Cryptography and Coding 1997. Lecture Notes in Computer Science, vol 1355. Springer, Berlin, Heidelberg</a>"
   ]
  },
  {
   "cell_type": "code",
   "execution_count": null,
   "metadata": {},
   "outputs": [],
   "source": []
  }
 ],
 "metadata": {
  "kernelspec": {
   "display_name": "SageMath 9.3.beta2",
   "language": "sage",
   "name": "sagemath"
  },
  "language_info": {
   "codemirror_mode": {
    "name": "ipython",
    "version": 3
   },
   "file_extension": ".py",
   "mimetype": "text/x-python",
   "name": "python",
   "nbconvert_exporter": "python",
   "pygments_lexer": "ipython3",
   "version": "3.7.3"
  }
 },
 "nbformat": 4,
 "nbformat_minor": 4
}
